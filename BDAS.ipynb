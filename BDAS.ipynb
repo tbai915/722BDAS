g{
 "cells": [
  {
   "cell_type": "code",
   "execution_count": 1,
   "metadata": {},
   "outputs": [
    {
     "name": "stdout",
     "output_type": "stream",
     "text": [
      "importing Jupyter notebook from BDAS_help.ipynb\n"
     ]
    }
   ],
   "source": [
    "import findspark\n",
    "findspark.init('C:\\spark')\n",
    "import os\n",
    "import random\n",
    "import import_ipynb\n",
    "import pyspark\n",
    "from pyspark.sql import SparkSession\n",
    "from BDAS_help import *\n",
    "pd.set_option('display.precision',12)\n",
    "\n",
    "SEED = 722\n",
    "# SEED = 123\n",
    "random.seed(SEED)\n",
    "np.random.seed(SEED)\n",
    "\n",
    "spark = SparkSession.builder.appName('basics').getOrCreate()\n"
   ]
  },
  {
   "cell_type": "code",
   "execution_count": 2,
   "metadata": {},
   "outputs": [],
   "source": [
    "# ---- step 1 ----\n",
    "file_dir = os.path.join('./','NZ-Vehicle-Fleet-Statistics-2018_web.xlsx')"
   ]
  },
  {
   "cell_type": "code",
   "execution_count": 3,
   "metadata": {},
   "outputs": [],
   "source": [
    "# ---- step 2.1 2.2 ----\n",
    "number_fleets_df = load_average_vehicle(file_dir)\n",
    "light_fleet_age_df = load_light_fleet_age(file_dir)\n",
    "co2_emission_df = load_co2_emission(file_dir)\n",
    "\n"
   ]
  },
  {
   "cell_type": "code",
   "execution_count": null,
   "metadata": {},
   "outputs": [],
   "source": [
    "# ---- step 2.3 ----\n",
    "number_fleets_df\n",
    "light_fleet_age_df\n",
    "co2_emission_df"
   ]
  },
  {
   "cell_type": "code",
   "execution_count": null,
   "metadata": {},
   "outputs": [],
   "source": [
    "# ---- step 2.4.1 ----\n",
    "co2_emission_df = step_2_4_1_imputation_co2_emission_df(co2_emission_df)"
   ]
  },
  {
   "cell_type": "code",
   "execution_count": null,
   "metadata": {
    "scrolled": false
   },
   "outputs": [],
   "source": [
    "# ---- step 2.4.2 ----\n",
    "step_2_4_2_check_normality(number_fleets_df, light_fleet_age_df, co2_emission_df)"
   ]
  },
  {
   "cell_type": "code",
   "execution_count": null,
   "metadata": {},
   "outputs": [],
   "source": [
    " # ---- step 3.1 ----\n",
    "num_fleets_select_cols = ['Period', 'Total light new', 'Total light used import', 'Total LPV new',\n",
    "                              ' Total LPV used', 'Total LCV new', ' Total LCV used', 'Light passenger NZ new',\n",
    "                              'Light passenger used import', 'Light commercial NZ New',\n",
    "                              'Light commercial used import', 'Light fleet average age', 'Light passenger average age',\n",
    "                              'Light commercial average age', 'Light used average age', 'NZ new light average age']\n",
    "new_age_distribution_df = step_3_1_clean_light_age_distribution(light_fleet_age_df)\n",
    "co2_select_cols = ['Light passenger', 'Light commercial']"
   ]
  },
  {
   "cell_type": "code",
   "execution_count": null,
   "metadata": {},
   "outputs": [],
   "source": [
    "# ---- step 3.2 ----\n",
    "num_fleets_select_cols = ['Period', 'Total LPV new', ' Total LPV used', 'Total LCV new', ' Total LCV used',\n",
    "                          'Light passenger average age', 'Light commercial average age']\n",
    "\n",
    "percentage_columns = ['0-4 years percentage', '5-9 years  percentage','10-14 years percentage',\n",
    "                      '15-19 years percentage', '20+ years percentage', '15+ years percentage']"
   ]
  },
  {
   "cell_type": "code",
   "execution_count": null,
   "metadata": {},
   "outputs": [],
   "source": [
    "# ---- step 3.3 ----\n",
    "nums_columns = ['Total LPV new', ' Total LPV used', 'Total LCV new', ' Total LCV used']\n",
    "new_age_distribution_df = step_3_3_construct_new_distribution_df(nums_columns, percentage_columns,\n",
    "                                                                 number_fleets_df, new_age_distribution_df)\n",
    "# new_age_distribution_df"
   ]
  },
  {
   "cell_type": "code",
   "execution_count": null,
   "metadata": {},
   "outputs": [],
   "source": [
    "# ---- step 3.4 ----\n",
    "cleaned_data_df = pd.concat([number_fleets_df[num_fleets_select_cols], new_age_distribution_df,co2_emission_df[co2_select_cols]], axis=1)\n",
    "# cleaned_data_df"
   ]
  },
  {
   "cell_type": "code",
   "execution_count": null,
   "metadata": {},
   "outputs": [],
   "source": [
    "# ---- step 3.5 ----\n",
    "cleaned_data_df = step_3_5_convert_object_to_int(cleaned_data_df)\n",
    "# cleaned_data_df.dtypes"
   ]
  },
  {
   "cell_type": "code",
   "execution_count": 21,
   "metadata": {},
   "outputs": [
    {
     "ename": "NameError",
     "evalue": "name 'sc' is not defined",
     "output_type": "error",
     "traceback": [
      "\u001b[1;31m---------------------------------------------------------------------------\u001b[0m",
      "\u001b[1;31mNameError\u001b[0m                                 Traceback (most recent call last)",
      "\u001b[1;32m<ipython-input-21-dd8f57113894>\u001b[0m in \u001b[0;36m<module>\u001b[1;34m\u001b[0m\n\u001b[0;32m      1\u001b[0m \u001b[1;32mfrom\u001b[0m \u001b[0mpyspark\u001b[0m\u001b[1;33m.\u001b[0m\u001b[0msql\u001b[0m \u001b[1;32mimport\u001b[0m \u001b[0mSQLContext\u001b[0m\u001b[1;33m\u001b[0m\u001b[1;33m\u001b[0m\u001b[0m\n\u001b[0;32m      2\u001b[0m \u001b[1;32mfrom\u001b[0m \u001b[0mpyspark\u001b[0m\u001b[1;33m.\u001b[0m\u001b[0mmllib\u001b[0m\u001b[1;33m.\u001b[0m\u001b[0mlinalg\u001b[0m \u001b[1;32mimport\u001b[0m \u001b[0mVectors\u001b[0m\u001b[1;33m\u001b[0m\u001b[1;33m\u001b[0m\u001b[0m\n\u001b[1;32m----> 3\u001b[1;33m \u001b[0msqlContext\u001b[0m \u001b[1;33m=\u001b[0m \u001b[0mSQLContext\u001b[0m\u001b[1;33m(\u001b[0m\u001b[0msc\u001b[0m\u001b[1;33m)\u001b[0m\u001b[1;33m\u001b[0m\u001b[1;33m\u001b[0m\u001b[0m\n\u001b[0m\u001b[0;32m      4\u001b[0m data = [(Vectors.sparse(5, [(1, 1.0), (3, 7.0)]),),\n\u001b[0;32m      5\u001b[0m   \u001b[1;33m(\u001b[0m\u001b[0mVectors\u001b[0m\u001b[1;33m.\u001b[0m\u001b[0mdense\u001b[0m\u001b[1;33m(\u001b[0m\u001b[1;33m[\u001b[0m\u001b[1;36m2.0\u001b[0m\u001b[1;33m,\u001b[0m \u001b[1;36m0.0\u001b[0m\u001b[1;33m,\u001b[0m \u001b[1;36m3.0\u001b[0m\u001b[1;33m,\u001b[0m \u001b[1;36m4.0\u001b[0m\u001b[1;33m,\u001b[0m \u001b[1;36m5.0\u001b[0m\u001b[1;33m]\u001b[0m\u001b[1;33m)\u001b[0m\u001b[1;33m,\u001b[0m\u001b[1;33m)\u001b[0m\u001b[1;33m,\u001b[0m\u001b[1;33m\u001b[0m\u001b[1;33m\u001b[0m\u001b[0m\n",
      "\u001b[1;31mNameError\u001b[0m: name 'sc' is not defined"
     ]
    }
   ],
   "source": [
    "from pyspark.sql import SQLContext\n",
    "from pyspark.mllib.linalg import Vectors\n",
    "sqlContext = SQLContext(sc)\n",
    "data = [(Vectors.sparse(5, [(1, 1.0), (3, 7.0)]),),\n",
    "  (Vectors.dense([2.0, 0.0, 3.0, 4.0, 5.0]),),\n",
    "  (Vectors.dense([4.0, 0.0, 0.0, 6.0, 7.0]),)]\n",
    "df = sqlContext.createDataFrame(data,[\"features\"])\n",
    "\n",
    "print(df)\n",
    "\n",
    "# from pyspark.ml.feature import PCA\n",
    "\n",
    "# sparkDf = spark.createDataFrame(number_fleets_df)\n",
    "\n",
    "# pca = PCA(k=3, inputCol=sparkDf.columns, outputCol=\"pcaFeatures\")\n",
    "# model = pca.fit(sparkDf)\n",
    "# result = model.transform(df).select(\"pcaFeatures\")\n",
    "# result.show(truncate=False)\n",
    "\n"
   ]
  },
  {
   "cell_type": "code",
   "execution_count": null,
   "metadata": {},
   "outputs": [],
   "source": [
    "# number_fleets_df = load_average_vehicle(file_dir)\n",
    "# sparkDf = spark.createDataFrame(number_fleets_df)\n",
    "# sparkDf.select(\"period\",\"Total light new\").show()\n",
    "# sparkDf.show()"
   ]
  }
 ],
 "metadata": {
  "kernelspec": {
   "display_name": "Python 3",
   "language": "python",
   "name": "python3"
  },
  "language_info": {
   "codemirror_mode": {
    "name": "ipython",
    "version": 3
   },
   "file_extension": ".py",
   "mimetype": "text/x-python",
   "name": "python",
   "nbconvert_exporter": "python",
   "pygments_lexer": "ipython3",
   "version": "3.7.9"
  }
 },
 "nbformat": 4,
 "nbformat_minor": 4
}
