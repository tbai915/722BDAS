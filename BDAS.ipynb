{
 "cells": [
  {
   "cell_type": "code",
   "execution_count": 14,
   "metadata": {},
   "outputs": [],
   "source": [
    "import findspark\n",
    "findspark.init('C:\\spark')\n",
    "import pyspark\n",
    "from pyspark.sql import SparkSession\n",
    "import os\n",
    "import pandas as pd\n",
    "\n",
    "spark = SparkSession.builder.appName('basics').getOrCreate()\n"
   ]
  },
  {
   "cell_type": "code",
   "execution_count": 15,
   "metadata": {},
   "outputs": [],
   "source": [
    "\n",
    "file_dir = os.path.join('./','LCV.csv')\n",
    "\n",
    "# df = spark.read.csv(file_dir)\n"
   ]
  },
  {
   "cell_type": "code",
   "execution_count": 16,
   "metadata": {},
   "outputs": [],
   "source": [
    "def load_average_vehicle(file_dir):\n",
    "    average_vehicle_df = pd.read_excel(file_dir, sheet_name=\"2.1, 2.2, 2.3,2.4\", header=2, nrows=19, usecols=\"A:AH\")\n",
    "    return average_vehicle_df\n",
    "\n",
    "def load_light_fleet_age(file_dir):\n",
    "    light_fleet_age_df = pd.read_excel(file_dir, sheet_name=\"2.10\", header=1, nrows=7)\n",
    "    return light_fleet_age_df\n",
    "\n",
    "def load_co2_emission(file_dir):\n",
    "    co2_emission_df = pd.read_excel(file_dir, sheet_name=\"1.10\", header=2, nrows=17, usecols=\"A:E\")\n",
    "    return co2_emission_df"
   ]
  },
  {
   "cell_type": "code",
   "execution_count": 17,
   "metadata": {},
   "outputs": [],
   "source": [
    "def get_sort_array_index(array):\n",
    "    # print(np.sort(array))\n",
    "    order = []\n",
    "    for element in np.sort(array):\n",
    "        for idx, pca_value in enumerate(array):\n",
    "            if element == pca_value:\n",
    "                order.append(idx)\n",
    "\n",
    "    print(order)\n",
    "\n",
    "def step_2_4_1_imputation_co2_emission_df(co2_emission_df):\n",
    "    missing_values = [[2000] + [np.nan for i in range(4)], [2018] + [np.nan for i in range(4)]]\n",
    "\n",
    "    imp = SimpleImputer(missing_values=np.nan, strategy='mean')\n",
    "    imp.fit(co2_emission_df)\n",
    "    X = imp.transform(missing_values)\n",
    "\n",
    "    df = pd.DataFrame(X, columns=co2_emission_df.columns)\n",
    "    co2_emission_df = pd.concat([co2_emission_df, df])\n",
    "    co2_emission_df = co2_emission_df.sort_values(by=['Year'])\n",
    "    co2_emission_df.index = [x for x in range(len(co2_emission_df.index))]\n",
    "\n",
    "    return co2_emission_df\n",
    "\n",
    "def step_2_4_2_check_normality(number_fleets_df, light_fleet_age_df,co2_emission_df):\n",
    "    plot_normality(number_fleets_df['Total LPV new'], 'Total LPV new')\n",
    "    plot_normality(number_fleets_df[' Total LPV used'], 'Total LPV used')\n",
    "    plot_normality(number_fleets_df['Total LCV new'], 'Total LCV new')\n",
    "    plot_normality(number_fleets_df[' Total LCV used'], 'Total LCV used')\n",
    "\n",
    "    plot_normality(np.array(light_fleet_age_df.iloc[0][1:20].astype(int)), '0-4 age group')\n",
    "    plot_normality(np.array(light_fleet_age_df.iloc[1][1:20].astype(int)), '5-9 age group')\n",
    "    plot_normality(np.array(light_fleet_age_df.iloc[2][1:20].astype(int)), '10-14 age group')\n",
    "    plot_normality(np.array(light_fleet_age_df.iloc[3][1:20].astype(int)), '15-19 age group')\n",
    "    plot_normality(np.array(light_fleet_age_df.iloc[4][1:20].astype(int)), '20+ age group')\n",
    "\n",
    "\n",
    "    plot_normality(co2_emission_df['Light passenger'], 'Light passenger co2 emssion')\n",
    "    plot_normality(co2_emission_df['Light commercial'], 'Light commercial co2 emission')"
   ]
  },
  {
   "cell_type": "code",
   "execution_count": 18,
   "metadata": {},
   "outputs": [],
   "source": [
    "# ---- step 1 ----\n",
    "file_dir = os.path.join('./','NZ-Vehicle-Fleet-Statistics-2018_web.xlsx')\n",
    "\n",
    "# ---- step 2.1 2.2 ----\n",
    "# number_fleets_df = load_average_vehicle(file_dir)\n",
    "# light_fleet_age_df = load_light_fleet_age(file_dir)\n",
    "# co2_emission_df = load_co2_emission(file_dir)\n",
    "\n",
    "# ---- step 2.3 ----\n",
    "# print(number_fleets_df)\n",
    "# print(light_fleet_age_df)\n",
    "# print(co2_emission_df)\n",
    "\n",
    "\n",
    "\n",
    "# ---- step 2.4.1 ----\n",
    "# co2_emission_df = step_2_4_1_imputation_co2_emission_df(co2_emission_df)\n",
    "\n",
    "# ---- step 2.4.2 ----\n",
    "# step_2_4_2_check_normality(number_fleets_df, light_fleet_age_df, co2_emission_df)"
   ]
  },
  {
   "cell_type": "code",
   "execution_count": 28,
   "metadata": {},
   "outputs": [
    {
     "name": "stdout",
     "output_type": "stream",
     "text": [
      "+------+---------------+\n",
      "|period|Total light new|\n",
      "+------+---------------+\n",
      "|  2000|        1527641|\n",
      "|  2001|        1510448|\n",
      "|  2002|        1504464|\n",
      "|  2003|        1510494|\n",
      "|  2004|        1523241|\n",
      "|  2005|        1541884|\n",
      "|  2006|        1561044|\n",
      "|  2007|        1584733|\n",
      "|  2008|        1605137|\n",
      "|  2009|        1610696|\n",
      "|  2010|        1628515|\n",
      "|  2011|        1643564|\n",
      "|  2012|        1690422|\n",
      "|  2013|        1748586|\n",
      "|  2014|        1817743|\n",
      "|  2015|        1888590|\n",
      "|  2016|        1975136|\n",
      "|  2017|        2066267|\n",
      "|  2018|        2151898|\n",
      "+------+---------------+\n",
      "\n"
     ]
    }
   ],
   "source": [
    "number_fleets_df = load_average_vehicle(file_dir)\n",
    "sparkDf = spark.createDataFrame(number_fleets_df)\n",
    "sparkDf.select(\"period\",\"Total light new\").show()\n",
    "# sparkDf.show()"
   ]
  },
  {
   "cell_type": "code",
   "execution_count": null,
   "metadata": {},
   "outputs": [],
   "source": []
  }
 ],
 "metadata": {
  "kernelspec": {
   "display_name": "Python 3",
   "language": "python",
   "name": "python3"
  },
  "language_info": {
   "codemirror_mode": {
    "name": "ipython",
    "version": 3
   },
   "file_extension": ".py",
   "mimetype": "text/x-python",
   "name": "python",
   "nbconvert_exporter": "python",
   "pygments_lexer": "ipython3",
   "version": "3.7.9"
  }
 },
 "nbformat": 4,
 "nbformat_minor": 4
}
