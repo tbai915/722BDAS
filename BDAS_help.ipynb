{
 "cells": [
  {
   "cell_type": "code",
   "execution_count": null,
   "metadata": {},
   "outputs": [],
   "source": [
    "import numpy as np\n",
    "import scipy.stats as stats\n",
    "import matplotlib.pyplot as plt\n",
    "import pandas as pd\n",
    "\n",
    "from sklearn.impute import SimpleImputer\n"
   ]
  },
  {
   "cell_type": "code",
   "execution_count": null,
   "metadata": {},
   "outputs": [],
   "source": [
    "def load_average_vehicle(file_dir):\n",
    "    average_vehicle_df = pd.read_excel(file_dir, sheet_name=\"2.1, 2.2, 2.3,2.4\", header=2, nrows=19, usecols=\"A:AH\")\n",
    "    return average_vehicle_df"
   ]
  },
  {
   "cell_type": "code",
   "execution_count": null,
   "metadata": {},
   "outputs": [],
   "source": [
    "def load_light_fleet_age(file_dir):\n",
    "    light_fleet_age_df = pd.read_excel(file_dir, sheet_name=\"2.10\", header=1, nrows=7)\n",
    "    return light_fleet_age_df"
   ]
  },
  {
   "cell_type": "code",
   "execution_count": null,
   "metadata": {},
   "outputs": [],
   "source": [
    "def load_co2_emission(file_dir):\n",
    "    co2_emission_df = pd.read_excel(file_dir, sheet_name=\"1.10\", header=2, nrows=17, usecols=\"A:E\")\n",
    "    return co2_emission_df"
   ]
  },
  {
   "cell_type": "code",
   "execution_count": null,
   "metadata": {},
   "outputs": [],
   "source": [
    "def get_sort_array_index(array):\n",
    "    # print(np.sort(array))\n",
    "    order = []\n",
    "    for element in np.sort(array):\n",
    "        for idx, pca_value in enumerate(array):\n",
    "            if element == pca_value:\n",
    "                order.append(idx)\n",
    "\n",
    "    print(order)"
   ]
  },
  {
   "cell_type": "code",
   "execution_count": null,
   "metadata": {},
   "outputs": [],
   "source": [
    "def step_2_4_1_imputation_co2_emission_df(co2_emission_df):\n",
    "    missing_values = [[2000] + [np.nan for i in range(4)], [2018] + [np.nan for i in range(4)]]\n",
    "\n",
    "    imp = SimpleImputer(missing_values=np.nan, strategy='mean')\n",
    "    imp.fit(co2_emission_df)\n",
    "    X = imp.transform(missing_values)\n",
    "\n",
    "    df = pd.DataFrame(X, columns=co2_emission_df.columns)\n",
    "    co2_emission_df = pd.concat([co2_emission_df, df])\n",
    "    co2_emission_df = co2_emission_df.sort_values(by=['Year'])\n",
    "    co2_emission_df.index = [x for x in range(len(co2_emission_df.index))]\n",
    "\n",
    "    return co2_emission_df"
   ]
  },
  {
   "cell_type": "code",
   "execution_count": null,
   "metadata": {},
   "outputs": [],
   "source": [
    "def plot_normality(target, name):\n",
    "    mean,std = np.mean(target), np.std(target)\n",
    "    X = np.linspace(np.min(target), np.max(target), 1000)\n",
    "    pdf = stats.norm.pdf(X, mean, std)\n",
    "    plt.plot(X, pdf, label=\"PDF\")\n",
    "    plt.grid()\n",
    "    plt.title('Check Normal Distribution for %s' %name,fontsize=10)\n",
    "    plt.xlabel('x')\n",
    "    plt.ylabel('Probability')\n",
    "    plt.show()"
   ]
  },
  {
   "cell_type": "code",
   "execution_count": null,
   "metadata": {},
   "outputs": [],
   "source": [
    "def step_2_4_2_check_normality(number_fleets_df, light_fleet_age_df,co2_emission_df):\n",
    "    plot_normality(number_fleets_df['Total LPV new'], 'Total LPV new')\n",
    "    plot_normality(number_fleets_df[' Total LPV used'], 'Total LPV used')\n",
    "    plot_normality(number_fleets_df['Total LCV new'], 'Total LCV new')\n",
    "    plot_normality(number_fleets_df[' Total LCV used'], 'Total LCV used')\n",
    "\n",
    "    plot_normality(np.array(light_fleet_age_df.iloc[0][1:20].astype(int)), '0-4 age group')\n",
    "    plot_normality(np.array(light_fleet_age_df.iloc[1][1:20].astype(int)), '5-9 age group')\n",
    "    plot_normality(np.array(light_fleet_age_df.iloc[2][1:20].astype(int)), '10-14 age group')\n",
    "    plot_normality(np.array(light_fleet_age_df.iloc[3][1:20].astype(int)), '15-19 age group')\n",
    "    plot_normality(np.array(light_fleet_age_df.iloc[4][1:20].astype(int)), '20+ age group')\n",
    "\n",
    "\n",
    "    plot_normality(co2_emission_df['Light passenger'], 'Light passenger co2 emssion')\n",
    "    plot_normality(co2_emission_df['Light commercial'], 'Light commercial co2 emission')"
   ]
  },
  {
   "cell_type": "code",
   "execution_count": null,
   "metadata": {},
   "outputs": [],
   "source": [
    "def step_3_1_clean_light_age_distribution(light_fleet_age_df):\n",
    "    light_fleet_age_df = light_fleet_age_df.T\n",
    "    light_fleet_age_df.index = [x for x in range(len(light_fleet_age_df.index))]\n",
    "\n",
    "    numbers = pd.DataFrame(light_fleet_age_df[1:20])\n",
    "    numbers = numbers.drop(columns=[6])\n",
    "    numbers.columns = ['0-4 years', '5-9 years', '10-14 years', '15-19 years', '20+ years', 'Total']\n",
    "    numbers.index = [i for i in range(2000, 2019)]\n",
    "\n",
    "    percentages = pd.DataFrame(light_fleet_age_df[20:])\n",
    "    percentages = percentages.drop(columns=5)\n",
    "    percentages.columns = ['0-4 years percentage', '5-9 years  percentage',\n",
    "                           '10-14 years percentage', '15-19 years percentage',\n",
    "                           '20+ years percentage', '15+ years percentage']\n",
    "    percentages.index = [i for i in range(2000, 2019)]\n",
    "\n",
    "    new_age_distribution = pd.concat([numbers, percentages], axis=1, join='inner')\n",
    "    new_age_distribution.insert(0, 'Period', new_age_distribution.index)\n",
    "    new_age_distribution.index = [i for i in range(len(new_age_distribution.index))]\n",
    "\n",
    "    return new_age_distribution"
   ]
  },
  {
   "cell_type": "code",
   "execution_count": null,
   "metadata": {},
   "outputs": [],
   "source": [
    "def step_3_3_construct_new_distribution_df(nums_columns, percentage_columns, number_fleets_df, new_age_distribution_df):\n",
    "\n",
    "    # new_table = {'Period':[i for i in range(2000,2019)]} for internal output\n",
    "    new_table = {}\n",
    "    for num_column in nums_columns:\n",
    "        for percenate_column in percentage_columns:\n",
    "            new_column = new_age_distribution_df[percenate_column] * number_fleets_df[num_column]\n",
    "            new_column_name = '%s of %s' % (percenate_column[:-11].strip(), num_column[6:].strip())\n",
    "            new_table[new_column_name] = new_column\n",
    "\n",
    "    new_age_distribution_df = pd.DataFrame(new_table)\n",
    "\n",
    "    return new_age_distribution_df"
   ]
  },
  {
   "cell_type": "code",
   "execution_count": null,
   "metadata": {},
   "outputs": [],
   "source": [
    "def step_3_5_convert_object_to_int(data_df):\n",
    "    for column in data_df.columns:\n",
    "        if data_df.dtypes[column] != np.float64:\n",
    "            data_df[column] = data_df[column].astype(np.int64)\n",
    "\n",
    "    return data_df"
   ]
  }
 ],
 "metadata": {
  "kernelspec": {
   "display_name": "Python 3",
   "language": "python",
   "name": "python3"
  },
  "language_info": {
   "codemirror_mode": {
    "name": "ipython",
    "version": 3
   },
   "file_extension": ".py",
   "mimetype": "text/x-python",
   "name": "python",
   "nbconvert_exporter": "python",
   "pygments_lexer": "ipython3",
   "version": "3.7.9"
  }
 },
 "nbformat": 4,
 "nbformat_minor": 4
}
